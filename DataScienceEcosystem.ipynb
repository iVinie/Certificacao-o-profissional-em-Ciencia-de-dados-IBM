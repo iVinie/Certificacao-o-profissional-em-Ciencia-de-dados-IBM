{
 "cells": [
  {
   "cell_type": "markdown",
   "id": "359fe773",
   "metadata": {},
   "source": [
    "# Data Science Tools and Ecosystem"
   ]
  },
  {
   "cell_type": "markdown",
   "id": "aaedeba5",
   "metadata": {},
   "source": [
    "In this notebook, Data Science Tools and Ecosystem are summarized.\n",
    "\n"
   ]
  },
  {
   "cell_type": "markdown",
   "id": "26d10a80",
   "metadata": {},
   "source": [
    "Some of the popular languages that Data Scientists use are:\n",
    "1. Python\n",
    "2. R\n",
    "3. SQL"
   ]
  },
  {
   "cell_type": "markdown",
   "id": "3279f271",
   "metadata": {},
   "source": [
    "**Objectives:**\n",
    "* Data Science Tools\n",
    "* Popular Languagens\n",
    "* Markdown\n",
    "* Github"
   ]
  },
  {
   "cell_type": "markdown",
   "id": "ed947296",
   "metadata": {},
   "source": [
    "Some of the commonly used libraries used by Data Scientists include:\n",
    "\n",
    "* Pandas\n",
    "* TensorFlow \n",
    "* NumPy \n",
    "* PyTorch "
   ]
  },
  {
   "cell_type": "markdown",
   "id": "65ab5f5c",
   "metadata": {},
   "source": [
    "Data Science Tools |\n",
    "-------------------\n",
    "Jupyter Notebook |\n",
    "RStudio |\n",
    "Python |\n",
    "\n",
    "\n"
   ]
  },
  {
   "cell_type": "markdown",
   "id": "439b606c",
   "metadata": {},
   "source": [
    "### Below are a few examples of evaluating arithmetic expressions in Python.\n",
    "\n"
   ]
  },
  {
   "cell_type": "code",
   "execution_count": 2,
   "id": "71f8585c",
   "metadata": {},
   "outputs": [
    {
     "data": {
      "text/plain": [
       "17"
      ]
     },
     "execution_count": 2,
     "metadata": {},
     "output_type": "execute_result"
    }
   ],
   "source": [
    "#This a simple arithmetic expression to mutiply then add integers\n",
    "(3*4)+5"
   ]
  },
  {
   "cell_type": "code",
   "execution_count": 6,
   "id": "d2b68a28",
   "metadata": {},
   "outputs": [
    {
     "name": "stdout",
     "output_type": "stream",
     "text": [
      "3.3333333333333335 hour\n"
     ]
    }
   ],
   "source": [
    "hour = (200/60)\n",
    "print(f'{hour} hour')"
   ]
  },
  {
   "cell_type": "markdown",
   "id": "433daa74",
   "metadata": {},
   "source": [
    "## Author\n",
    "Vinicius Oliveira"
   ]
  }
 ],
 "metadata": {
  "kernelspec": {
   "display_name": "Python 3",
   "language": "python",
   "name": "python3"
  },
  "language_info": {
   "codemirror_mode": {
    "name": "ipython",
    "version": 3
   },
   "file_extension": ".py",
   "mimetype": "text/x-python",
   "name": "python",
   "nbconvert_exporter": "python",
   "pygments_lexer": "ipython3",
   "version": "3.13.5"
  }
 },
 "nbformat": 4,
 "nbformat_minor": 5
}
